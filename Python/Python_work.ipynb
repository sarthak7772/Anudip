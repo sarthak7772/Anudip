{
 "cells": [
  {
   "cell_type": "markdown",
   "metadata": {},
   "source": [
    "Ques: To display the input time (in sec) into Hour:Minute:Second"
   ]
  },
  {
   "cell_type": "code",
   "execution_count": 1,
   "metadata": {},
   "outputs": [
    {
     "name": "stdin",
     "output_type": "stream",
     "text": [
      "enter time in seconds  456\n"
     ]
    },
    {
     "name": "stdout",
     "output_type": "stream",
     "text": [
      "0 Hour 7 Minutes 36 Seconds\n"
     ]
    }
   ],
   "source": [
    "time = int(input(\"enter time in seconds \"))\n",
    "if time >= 0:\n",
    "    hour = 0\n",
    "    min = 0\n",
    "    # conversion of second in hour\n",
    "    if time >= 3600:\n",
    "        hour = time // 3600\n",
    "        time = time % 3600\n",
    "    # conversion of second in minute\n",
    "    if time >= 60:\n",
    "        min = time // 60\n",
    "        time = time % 60\n",
    "    print(hour,\"Hour\" ,min,\"Minutes\",time, \"Seconds\")\n",
    "else:\n",
    "    print(\"time must be positive\")"
   ]
  },
  {
   "cell_type": "markdown",
   "metadata": {},
   "source": [
    "Finding the greatest number between two"
   ]
  },
  {
   "cell_type": "code",
   "execution_count": 2,
   "metadata": {},
   "outputs": [
    {
     "name": "stdin",
     "output_type": "stream",
     "text": [
      "enter 1st number  5\n",
      "enter 2nd number  6\n"
     ]
    },
    {
     "name": "stdout",
     "output_type": "stream",
     "text": [
      "The greatest number is: 6\n"
     ]
    }
   ],
   "source": [
    "num1 = int(input(\"enter 1st number \"))\n",
    "num2 = int(input(\"enter 2nd number \"))\n",
    "#Using Selection statements comparing 2 numbers\n",
    "if num1 > num2:\n",
    "    greatest = num1\n",
    "else:\n",
    "    if num2 > num1:\n",
    "        greatest = num2\n",
    "    else:\n",
    "        greatest = \"Both numbers are equal\"\n",
    "\n",
    "print(\"The greatest number is:\", greatest)"
   ]
  },
  {
   "cell_type": "markdown",
   "metadata": {},
   "source": [
    " Given the Cost Price (CP) and Selling Price (SP) of a product. The task is to calculate the Profit or Loss"
   ]
  },
  {
   "cell_type": "code",
   "execution_count": null,
   "metadata": {},
   "outputs": [],
   "source": [
    "cp = float(input(\"enter cost price (in Rs):  \"))\n",
    "sp = float(input(\"enter selling price (in Rs): \"))\n",
    "#Using Selection statements\n",
    "if cp < 0:\n",
    "    print(\"invalid cost price\")\n",
    "elif sp < 0:\n",
    "    print(\"invalid selling price\")\n",
    "else:\n",
    "    if cp > sp:\n",
    "        print(\"loss: Rs\", (cp - sp))\n",
    "    elif cp < sp:\n",
    "        print(\"profit: Rs\", (sp - cp))\n",
    "    else:\n",
    "        print(\"no profit no loss\")"
   ]
  },
  {
   "cell_type": "markdown",
   "metadata": {},
   "source": [
    "Sum of given list"
   ]
  },
  {
   "cell_type": "code",
   "execution_count": null,
   "metadata": {},
   "outputs": [],
   "source": [
    "list = [80, 90, 30, 20, 70, 80, 39, 87]\n",
    "#taken sum as 0\n",
    "sum = 0\n",
    "for x in list:\n",
    "    sum = sum + x\n",
    "print(sum)"
   ]
  },
  {
   "cell_type": "markdown",
   "metadata": {},
   "source": [
    "Count the numbers between 100 to 1000 which is even and divisible by 3"
   ]
  },
  {
   "cell_type": "code",
   "execution_count": null,
   "metadata": {},
   "outputs": [],
   "source": [
    "count = 0\n",
    "for x in range(100, 1000):\n",
    "    if x % 2 == 0 and x % 3 == 0:\n",
    "        print(x, end=\",\")\n",
    "        count = count + 1\n",
    "print(\"\\nThe number of numbers between 100 to 1000 which is even and divisible by 3 are: \", count)\n"
   ]
  },
  {
   "cell_type": "markdown",
   "metadata": {},
   "source": [
    "The numbers between 10 to 500 divisible by both 10 and 7"
   ]
  },
  {
   "cell_type": "code",
   "execution_count": null,
   "metadata": {},
   "outputs": [],
   "source": [
    "#taken a for loop\n",
    "for x in range(10, 500):\n",
    "    if x % 7 == 0 and x % 10 == 0:\n",
    "        print(\"The numbers between 10 to 500 divisible by both 10 and 7 are: \", x)"
   ]
  },
  {
   "cell_type": "markdown",
   "metadata": {},
   "source": [
    " List operations"
   ]
  },
  {
   "cell_type": "code",
   "execution_count": null,
   "metadata": {},
   "outputs": [],
   "source": [
    "list = [1, 2, 3, 4, \"Sarthak\"]\n",
    "print(\"Display the list with formatting: \", list)\n",
    "print(\"Display the list without formatting:\")\n",
    "print(*list)\n",
    "print(\"---Display the list by access member using for loop(ELEMENT BY ELEMENT): ---\")\n",
    "for x in list:\n",
    "    print(x)"
   ]
  },
  {
   "cell_type": "markdown",
   "metadata": {},
   "source": [
    "List slicing and fetching elements"
   ]
  },
  {
   "cell_type": "code",
   "execution_count": null,
   "metadata": {},
   "outputs": [],
   "source": [
    "#taken a list here\n",
    "list = [1, 2, 3, 4, 5, \"hello\", \"World\", 6, 7]\n",
    "print(\"Fetching 3rd Element: \")\n",
    "print(list[2])\n",
    "print(\"Fetching 4th element from last:\")\n",
    "print(list[-4])\n",
    "print(\"Fetching elements from 3rd to 10th position:\")\n",
    "print(list[2:10])\n",
    "print(\"Fetching alternate elements from 3rd to 10th position:\")\n",
    "print(list[2:10:2])"
   ]
  },
  {
   "cell_type": "markdown",
   "metadata": {},
   "source": [
    "Create a list of 20 numbers and print the number in backward direction using forward indexing"
   ]
  },
  {
   "cell_type": "code",
   "execution_count": null,
   "metadata": {},
   "outputs": [],
   "source": [
    "#taken a list here\n",
    "list = [1, 2, 3, 4, 5, 6, 7, 8, 9, 10, 11, 12, 13, 14, 15, 16, 15, 18, 19, 20]\n",
    "x = len(list) - 1\n",
    "for i in range(x, -1, -1):\n",
    "    print(list[i], end=',')"
   ]
  },
  {
   "cell_type": "markdown",
   "metadata": {},
   "source": [
    " Insert all elements of another sequence datatype at a particular index in the list (one by one)"
   ]
  },
  {
   "cell_type": "code",
   "execution_count": null,
   "metadata": {},
   "outputs": [],
   "source": [
    "#Taken 2 list here\n",
    "list1 = [1, 2, 3, 4, 8, 9, 10]\n",
    "list2 = [5, 6, 7]\n",
    "index = int(input(\"Enter the index where you want to insert the list2: \"))\n",
    "if index < len(list1):\n",
    "    a = list1[0:index]\n",
    "    b = list1[index::]\n",
    "    a.extend(list2)\n",
    "    list1.clear()\n",
    "    list1 = a + b\n",
    "    print(\"Updated list will be: \", list1)\n",
    "else:\n",
    "    print(\"Entered index\", index, \"is out of range\")"
   ]
  },
  {
   "cell_type": "markdown",
   "metadata": {},
   "source": [
    "Insert all elements of another sequence datatype at a particular index in the list (one by one)"
   ]
  },
  {
   "cell_type": "code",
   "execution_count": null,
   "metadata": {},
   "outputs": [],
   "source": [
    "#taken 2 lists here\n",
    "list1 = [1, 2, 3, 4, 8, 9, 10]\n",
    "list2 = [5, 6, 7]\n",
    "index = int(input(\"enter the index where you want to insert the list2: \"))\n",
    "if index >= 0 and index < len(list1):\n",
    "    for i in range(len(list2)):\n",
    "        list1.insert(index + i, list2[i])\n",
    "    print(\"Updated list will be: \", list1)\n",
    "elif index < 0 and index >= -len(list1):\n",
    "    for i in range(len(list2)):\n",
    "        list1.insert(index, list2[i])\n",
    "    print(\"Updated list will be: \", list1)\n",
    "else:\n",
    "    print(\"Entered index\", index, \"is out of range\")"
   ]
  },
  {
   "cell_type": "markdown",
   "metadata": {},
   "source": [
    "Tabulate module\n",
    "The Tabulate library or Module is used to display data in the form of rows and columns.\n",
    "Using LIST"
   ]
  },
  {
   "cell_type": "code",
   "execution_count": null,
   "metadata": {},
   "outputs": [],
   "source": [
    "# Data from the spreadsheet\n",
    "from tabulate import tabulate\n",
    "data = [\n",
    "    [\"std101\", \"Ashish Kumar\", \"10th\", 15, 67, 89, 87, 89, 90, 422],\n",
    "    [\"std102\", \"Abhishek Kumar\", \"10th\", 15, 34, 45, 78, 45, 31, 233],\n",
    "    [\"std103\", \"Aman\", \"10th\", 15, 56, 56, 78, 78, 45, 313],\n",
    "    [\"std104\", \"Rahul\", \"10th\", 15, 78, 67, 89, 89, 78, 402],\n",
    "    [\"std105\", \"Ruby\", \"10th\", 13, 89, 56, 45, 45, 67, 302],\n",
    "    [\"std106\", \"Suman\", \"10th\", 13, 67, 67, 67, 67, 67, 335],\n",
    "    [\"std107\", \"Saurabh\", \"10th\", 15, 45, 23, 45, 78, 67, 258],\n",
    "    [\"std108\", \"Sumit\", \"10th\", 15, 89, 90, 89, 90, 45, 403],\n",
    "    [\"std109\", \"Kamlesh\", \"10th\", 15, 78, 45, 78, 78, 78, 337],\n",
    "    [\"std110\", \"Rohan\", \"10th\", 15, 12, 24, 45, 56, 34, 171]\n",
    "]\n",
    "\n",
    "# Define the headers\n",
    "headers = [\"stdid\", \"stdname\", \"standard\", \"Age\", \"Hindi\", \"English\", \"Maths\", \"Science\", \"Computer\", \"Total\"]\n",
    "\n",
    "# Print the table\n",
    "print(tabulate(data, headers=headers, tablefmt=\"grid\"))\n",
    "print('**************************************************************************************\\n')\n",
    "# Find and print the names of students with English marks greater than 50 using a for loop\n",
    "print(\"Students with English marks greater than 70:\")\n",
    "for row in data:\n",
    "    if row[5] > 50:\n",
    "        print(row[1])\n",
    "print('**************************************************************************************\\n')\n",
    "# Extract student name, age, and Maths score\n",
    "relevant_data = [(row[1], row[3], row[6]) for row in data]\n",
    "\n",
    "# Sort the data by Maths score in descending order\n",
    "sorted_data = sorted(relevant_data, key=lambda x: x[2], reverse=True)\n",
    "\n",
    "# Select the top four students\n",
    "top_four = sorted_data[:4]\n",
    "\n",
    "# Print the top four students' names and ages\n",
    "for student in top_four:\n",
    "    print(f\"Student Name: {student[0]}, Age: {student[1]}\")\n",
    "print(\"************************************************************************************\\n\")\n",
    "# Extract student id, name, age, and computer score\n",
    "relevant_data = [(row[0], row[1], row[3], row[8]) for row in data]\n",
    "\n",
    "# Sort the data by computer score in descending order\n",
    "sorted_data = sorted(relevant_data, key=lambda x: x[3], reverse=True)\n",
    "\n",
    "# Select the bottom three students\n",
    "bottom_three = sorted_data[-3:]\n",
    "\n",
    "# Print the bottom three students id, names, and ages\n",
    "for student in bottom_three:\n",
    "    print(f\"Student Id: {student[0]}, Student Name: {student[1]}, Age: {student[2]}\")"
   ]
  },
  {
   "cell_type": "markdown",
   "metadata": {},
   "source": [
    "Dictionary creation in python"
   ]
  },
  {
   "cell_type": "code",
   "execution_count": null,
   "metadata": {},
   "outputs": [],
   "source": [
    "#Taken a dictionary here\n",
    "Dict = {1: 'Sarthak', 2: 'Dwivedi', 3: 'Anudip'}\n",
    "print(Dict)"
   ]
  },
  {
   "cell_type": "markdown",
   "metadata": {},
   "source": [
    "Adding element in dictionary"
   ]
  },
  {
   "cell_type": "code",
   "execution_count": null,
   "metadata": {},
   "outputs": [],
   "source": [
    "#Adding element into dictionary\n",
    "Dict[4]=\"Foundation\"\n",
    "print(Dict)"
   ]
  },
  {
   "cell_type": "markdown",
   "metadata": {},
   "source": [
    "**DELETION IN DICTIONARY**"
   ]
  },
  {
   "cell_type": "code",
   "execution_count": null,
   "metadata": {},
   "outputs": [],
   "source": [
    "student_data={'stdid':'std101','stdname': 'Ashish Kumar','standard': '10th','age': 15,'hindi':67,'English':89}\n",
    "#To display the dictionary\n",
    "print(student_data)\n",
    "#delete element having key as hindi\n",
    "student_data.pop('hindi')\n",
    "#To delete the last item in dictionary\n",
    "student_data.popitem()\n",
    "print(student_data)"
   ]
  },
  {
   "cell_type": "markdown",
   "metadata": {},
   "source": [
    "To return the keys of all the element in List"
   ]
  },
  {
   "cell_type": "code",
   "execution_count": null,
   "metadata": {},
   "outputs": [],
   "source": [
    "#here we are using Keys function\n",
    "element_keys=student_data.keys()\n",
    "print(element_keys)"
   ]
  },
  {
   "cell_type": "markdown",
   "metadata": {},
   "source": [
    "To return the values of all the element in List of a Dictionary"
   ]
  },
  {
   "cell_type": "code",
   "execution_count": null,
   "metadata": {},
   "outputs": [],
   "source": [
    "#using values functuon here for retrieving values from dictionaries\n",
    "element_values=student_data.values()\n",
    "print(element_values)"
   ]
  },
  {
   "cell_type": "markdown",
   "metadata": {},
   "source": [
    "Using update()\n"
   ]
  },
  {
   "cell_type": "code",
   "execution_count": null,
   "metadata": {},
   "outputs": [],
   "source": [
    "dict1={'name':'Amit','Age':15,'standard':'10th'}\n",
    "print(dict1)\n",
    "dict2={'hindi':67,'Age':16,'standard':\"12th\",'English':67}\n",
    "print((dict2))\n",
    "# inserting all the element of the dict2 into dict1\n",
    "dict1.update(dict2)\n",
    "print(dict1)"
   ]
  },
  {
   "cell_type": "markdown",
   "metadata": {},
   "source": [
    "#Using fromkeys()\n"
   ]
  },
  {
   "cell_type": "code",
   "execution_count": null,
   "metadata": {},
   "outputs": [],
   "source": [
    "#using fromkeys function here\n",
    "x=dict1.fromkeys('english',16)\n",
    "print(x)\n",
    "y=dict1.fromkeys(dict1.keys(),dict1.values())\n",
    "print(y)\n",
    "z=dict1.fromkeys(dict1.keys(),16)\n",
    "print(z)\n",
    "print(\"-------------------*-----------------*----------------*----------------\")\n",
    "#To find the no. of element of a dictionary\n",
    "print(len(dict1))"
   ]
  },
  {
   "cell_type": "markdown",
   "metadata": {},
   "source": [
    "# Using DICTIONARY\n",
    "# Data of the Student from Excel"
   ]
  },
  {
   "cell_type": "markdown",
   "metadata": {},
   "source": []
  },
  {
   "cell_type": "code",
   "execution_count": null,
   "metadata": {},
   "outputs": [],
   "source": [
    "data = [\n",
    "    {\"stdid\": \"std101\", \"stdname\": \"Ashish Kumar\", \"standard\": \"10th\", \"Age\": 15, \"Hindi\": 67, \"English\": 89, \"Maths\": 87, \"Science\": 89, \"Computer\": 90, \"Total\": 422},\n",
    "    {\"stdid\": \"std102\", \"stdname\": \"Abhishek Kumar\", \"standard\": \"10th\", \"Age\": 15, \"Hindi\": 34, \"English\": 45, \"Maths\": 78, \"Science\": 45, \"Computer\": 31, \"Total\": 233},\n",
    "    {\"stdid\": \"std103\", \"stdname\": \"Aman\", \"standard\": \"10th\", \"Age\": 15, \"Hindi\": 56, \"English\": 56, \"Maths\": 78, \"Science\": 78, \"Computer\": 45, \"Total\": 313},\n",
    "    {\"stdid\": \"std104\", \"stdname\": \"Rahul\", \"standard\": \"10th\", \"Age\": 15, \"Hindi\": 78, \"English\": 67, \"Maths\": 89, \"Science\": 89, \"Computer\": 78, \"Total\": 402},\n",
    "    {\"stdid\": \"std105\", \"stdname\": \"Ruby\", \"standard\": \"10th\", \"Age\": 13, \"Hindi\": 89, \"English\": 56, \"Maths\": 45, \"Science\": 45, \"Computer\": 67, \"Total\": 302},\n",
    "    {\"stdid\": \"std106\", \"stdname\": \"Suman\", \"standard\": \"10th\", \"Age\": 13, \"Hindi\": 67, \"English\": 67, \"Maths\": 67, \"Science\": 67, \"Computer\": 67, \"Total\": 335},\n",
    "    {\"stdid\": \"std107\", \"stdname\": \"Saurabh\", \"standard\": \"10th\", \"Age\": 15, \"Hindi\": 45, \"English\": 23, \"Maths\": 45, \"Science\": 78, \"Computer\": 67, \"Total\": 258},\n",
    "    {\"stdid\": \"std108\", \"stdname\": \"Sumit\", \"standard\": \"10th\", \"Age\": 15, \"Hindi\": 89, \"English\": 90, \"Maths\": 89, \"Science\": 90, \"Computer\": 45, \"Total\": 403},\n",
    "    {\"stdid\": \"std109\", \"stdname\": \"Kamlesh\", \"standard\": \"10th\", \"Age\": 15, \"Hindi\": 78, \"English\": 45, \"Maths\": 78, \"Science\": 78, \"Computer\": 78, \"Total\": 337},\n",
    "    {\"stdid\": \"std110\", \"stdname\": \"Rohan\", \"standard\": \"10th\", \"Age\": 15, \"Hindi\": 12, \"English\": 24, \"Maths\": 45, \"Science\": 56, \"Computer\": 34, \"Total\": 171}\n",
    "]\n",
    "# To print the data in tabular form\n",
    "print(tabulate(data, headers=\"keys\", tablefmt=\"grid\"))\n",
    "# Initialize an empty list to store names of students\n",
    "filtered_students = []\n",
    "# To check if the student's English marks is greater than 50\n",
    "for student in data:\n",
    "    if student[\"English\"] > 50:\n",
    "        filtered_students.append(student[\"stdname\"])\n",
    "# Print the names of students\n",
    "print(\"Students whose marks in English are greater than 50:\")\n",
    "for name in filtered_students:\n",
    "    print(name)\n",
    "\n",
    "print(\"------------------*------------------*-----------------*------------------\")\n",
    "print(\"Name and Age of a student who are top four scorer in Maths:\")\n",
    "# Sort data based on Maths scores in descending order\n",
    "sorted_data = sorted(data, key=lambda x: x[\"Maths\"], reverse=True)\n",
    "top_four = sorted_data[0:4]\n",
    "# Prepare table data that contain the name and age of top four scorer of Maths\n",
    "table_data = [[student[\"stdname\"], student[\"Age\"]] for student in top_four]\n",
    "# Display the table_data in tabular form\n",
    "print(tabulate(table_data, headers=[\"Student Name\", \"Age\"], tablefmt=\"grid\"))\n",
    "\n",
    "print(\"------------------*------------------*-----------------*------------------\")\n",
    "print(\"Name, Id and Age of student who are bottom three scorer in Computer:\")\n",
    "# Sort data based on Computer scores in ascending order\n",
    "sorted_data = sorted(data, key=lambda x: x[\"Computer\"])\n",
    "bottom_three = sorted_data[:3]\n",
    "\n",
    "#Prepare table data that contain the Name ,Id and Age of bottom three scorer in Computer\n",
    "table_data = [[student[\"stdname\"], student[\"stdid\"], student[\"Age\"]] for student in bottom_three]\n",
    "# Display the table_data in tabular form\n",
    "print(tabulate(table_data, headers=[\"Student Name\", \"Student ID\", \"Age\"], tablefmt=\"grid\"))"
   ]
  }
 ],
 "metadata": {
  "kernelspec": {
   "display_name": "Python 3 (ipykernel)",
   "language": "python",
   "name": "python3"
  },
  "language_info": {
   "codemirror_mode": {
    "name": "ipython",
    "version": 3
   },
   "file_extension": ".py",
   "mimetype": "text/x-python",
   "name": "python",
   "nbconvert_exporter": "python",
   "pygments_lexer": "ipython3",
   "version": "3.12.4"
  }
 },
 "nbformat": 4,
 "nbformat_minor": 4
}
