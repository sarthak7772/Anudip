{
 "cells": [
  {
   "cell_type": "markdown",
   "metadata": {},
   "source": [
    "1. Count the Occurrences of Each Word in a Given Sentence"
   ]
  },
  {
   "cell_type": "code",
   "execution_count": 1,
   "metadata": {},
   "outputs": [
    {
     "name": "stdout",
     "output_type": "stream",
     "text": [
      "Word occurrences: {'to': 2, 'change': 2, 'the': 3, 'overall': 1, 'look': 2, 'of': 1, 'your': 1, 'document': 1, 'available': 1, 'in': 1, 'gallery': 1}\n"
     ]
    }
   ],
   "source": [
    "# Given string\n",
    "string = \"To change the overall look of your document. To change the look available in the gallery\"\n",
    "\n",
    "# Convert to lowercase to ensure case insensitivity\n",
    "string = string.lower()\n",
    "\n",
    "# Replace punctuation with spaces\n",
    "for char in \",.\":  # Add more punctuation marks as needed\n",
    "    string = string.replace(char, ' ')\n",
    "\n",
    "# Split the string into words\n",
    "words = string.split()\n",
    "\n",
    "# Count occurrences of each word\n",
    "word_count = {}\n",
    "for word in words:\n",
    "    if word in word_count:\n",
    "        word_count[word] += 1\n",
    "    else:\n",
    "        word_count[word] = 1\n",
    "\n",
    "# Display the result\n",
    "print(\"Word occurrences:\", word_count)\n"
   ]
  },
  {
   "cell_type": "markdown",
   "metadata": {},
   "source": [
    "2. Remove Newline Characters from a String"
   ]
  },
  {
   "cell_type": "code",
   "execution_count": 2,
   "metadata": {},
   "outputs": [
    {
     "name": "stdout",
     "output_type": "stream",
     "text": [
      "String without newlines: Best  Deeptech  Python  Training\n"
     ]
    }
   ],
   "source": [
    "# Given string\n",
    "string = \"\\nBest \\nDeeptech \\nPython \\nTraining\\n\"\n",
    "\n",
    "# Remove newline characters\n",
    "cleaned_string = string.replace('\\n', ' ').strip()\n",
    "\n",
    "# Display the result\n",
    "print(\"String without newlines:\", cleaned_string)\n"
   ]
  },
  {
   "cell_type": "markdown",
   "metadata": {},
   "source": [
    "3. Reverse Words in a String"
   ]
  },
  {
   "cell_type": "code",
   "execution_count": null,
   "metadata": {},
   "outputs": [],
   "source": [
    "# Given string\n",
    "string = \"Deeptech Python Training\"\n",
    "\n",
    "# Split the string into words and reverse the list\n",
    "words = string.split()\n",
    "reversed_words = words[::-1]\n",
    "\n",
    "# Join the reversed list into a single string\n",
    "reversed_string = ' '.join(reversed_words)\n",
    "\n",
    "# Display the result\n",
    "print(\"Reversed words:\", reversed_string)\n"
   ]
  },
  {
   "cell_type": "markdown",
   "metadata": {},
   "source": [
    "4. Count and Display the Vowels of a Given Text"
   ]
  },
  {
   "cell_type": "code",
   "execution_count": null,
   "metadata": {},
   "outputs": [],
   "source": [
    "# Given string\n",
    "string = \"Welcome to python Training\"\n",
    "\n",
    "# Define vowels\n",
    "vowels = 'aeiou'\n",
    "\n",
    "# Initialize a dictionary to count vowels\n",
    "vowel_count = {v: 0 for v in vowels}\n",
    "\n",
    "# Count each vowel in the string\n",
    "for char in string.lower():\n",
    "    if char in vowel_count:\n",
    "        vowel_count[char] += 1\n",
    "\n",
    "# Display the result\n",
    "print(\"Vowel counts:\")\n",
    "for vowel, count in vowel_count.items():\n",
    "    print(f\"{vowel.upper()}: {count}\")\n"
   ]
  }
 ],
 "metadata": {
  "kernelspec": {
   "display_name": "Python 3",
   "language": "python",
   "name": "python3"
  },
  "language_info": {
   "codemirror_mode": {
    "name": "ipython",
    "version": 3
   },
   "file_extension": ".py",
   "mimetype": "text/x-python",
   "name": "python",
   "nbconvert_exporter": "python",
   "pygments_lexer": "ipython3",
   "version": "3.8.10"
  }
 },
 "nbformat": 4,
 "nbformat_minor": 2
}
