{
 "cells": [
  {
   "cell_type": "markdown",
   "metadata": {},
   "source": [
    "SET"
   ]
  },
  {
   "cell_type": "code",
   "execution_count": null,
   "metadata": {},
   "outputs": [],
   "source": [
    "# Define the set of months\n",
    "Months = {'january', 'feb', 'march', 'april', 'may'}\n",
    "\n",
    "# Print the set and its ID\n",
    "print(Months)\n",
    "print(id(Months))\n",
    "\n",
    "# Add a single month to the set\n",
    "Months.add('august')\n",
    "\n",
    "# Update the set with multiple months\n",
    "Months.update(['july', 'august', 'sep', 'oct'])\n",
    "\n",
    "# Print the ID of the set again to show it remains the same\n",
    "print(id(Months))\n",
    "\n",
    "# Remove a month from the set\n",
    "Months.discard('oct')\n",
    "\n",
    "# Remove and return an arbitrary element from the set (pop)\n",
    "o = Months.pop()\n",
    "\n",
    "# Print the removed element\n",
    "print(o)"
   ]
  },
  {
   "cell_type": "markdown",
   "metadata": {},
   "source": [
    "String"
   ]
  },
  {
   "cell_type": "code",
   "execution_count": 2,
   "metadata": {},
   "outputs": [
    {
     "name": "stdout",
     "output_type": "stream",
     "text": [
      "i am java trainer\n",
      "name[2:4] am\n",
      "name[5:9] java\n",
      "name[:15] i am java train\n",
      "name[2:] am java trainer\n",
      "name[:] i am java trainer\n",
      "name[0:17:3] ima ae\n",
      "name[::] i am java trainer\n",
      "name[::-1] reniart avaj ma i\n"
     ]
    }
   ],
   "source": [
    "# Assign a string to the variable 'name'\n",
    "name = 'i am java trainer'\n",
    "\n",
    "# Print the value of 'name'\n",
    "print(name)\n",
    "\n",
    "# Print the substring from index 2 to 4 (excluding 4)\n",
    "print(\"name[2:4]\", name[2:4])  # Output: 'am'\n",
    "\n",
    "# Print the substring from index 5 to 9 (excluding 9)\n",
    "print(\"name[5:9]\", name[5:9])  # Output: 'java'\n",
    "\n",
    "# Print the substring from the beginning to index 15 (excluding 15)\n",
    "print(\"name[:15]\", name[:15])  # Output: 'i am java train'\n",
    "\n",
    "# Print the substring from index 2 to the end\n",
    "print(\"name[2:]\", name[2:])  # Output: 'am java trainer'\n",
    "\n",
    "# Print the entire string\n",
    "print(\"name[:]\", name[:])  # Output: 'i am java trainer'\n",
    "\n",
    "# Print every 3rd character from the string\n",
    "print(\"name[0:17:3]\", name[0:17:3])  # Output: 'iajaar'\n",
    "\n",
    "# Print the entire string (same as name[:])\n",
    "print(\"name[::]\", name[::])  # Output: 'i am java trainer'\n",
    "\n",
    "# Print the string in reverse order\n",
    "print(\"name[::-1]\", name[::-1])  # Output: 'reniart avaj ma i'\n"
   ]
  },
  {
   "cell_type": "markdown",
   "metadata": {},
   "source": [
    "is operator"
   ]
  },
  {
   "cell_type": "code",
   "execution_count": 3,
   "metadata": {},
   "outputs": [
    {
     "name": "stdout",
     "output_type": "stream",
     "text": [
      "True\n",
      "False\n"
     ]
    }
   ],
   "source": [
    "# Define two lists, x and y\n",
    "x = ['aaple', 'banana']\n",
    "y = ['apple', 'banana']\n",
    "\n",
    "# Assign x to z, so z refers to the same object as x\n",
    "z = x\n",
    "\n",
    "# Check if x and z refer to the same object\n",
    "print(x is z)  # Output: True, because z is a reference to the same list object as x\n",
    "\n",
    "# Check if x and y refer to the same object\n",
    "print(x is y)  # Output: False, because x and y are two distinct list objects, even though their contents are similar\n"
   ]
  },
  {
   "cell_type": "markdown",
   "metadata": {},
   "source": [
    "Capatilize"
   ]
  },
  {
   "cell_type": "code",
   "execution_count": 4,
   "metadata": {},
   "outputs": [
    {
     "name": "stdout",
     "output_type": "stream",
     "text": [
      "sarthak dwivedi\n",
      "Sarthak dwivedi\n"
     ]
    }
   ],
   "source": [
    "# Assign a string to the variable 'str'\n",
    "str = 'sarthak dwivedi'\n",
    "\n",
    "# Print the original string\n",
    "print(str)  # Output: 'sarthak dwivedi'\n",
    "\n",
    "# Capitalize the first character of the string and reassign it to 'str'\n",
    "str = str.capitalize()\n",
    "\n",
    "# Print the capitalized string\n",
    "print(str)  # Output: 'Sarthak dwivedi'"
   ]
  },
  {
   "cell_type": "markdown",
   "metadata": {},
   "source": [
    "center() method this method allings string to the center by filling paddings left and right of the string .This method takes two parameters ,first is a width and second is a fillchar which is optional "
   ]
  },
  {
   "cell_type": "code",
   "execution_count": 6,
   "metadata": {},
   "outputs": [
    {
     "name": "stdout",
     "output_type": "stream",
     "text": [
      "'       sarthak       '\n"
     ]
    }
   ],
   "source": [
    "# Assign a string to the variable 'str'\n",
    "str = 'sarthak'\n",
    "\n",
    "# Center the string within a width of 21 characters, using spaces as the padding character\n",
    "str = str.center(21)\n",
    "\n",
    "# Print the centered string\n",
    "print(f\"'{str}'\")\n"
   ]
  },
  {
   "cell_type": "markdown",
   "metadata": {},
   "source": [
    "count method"
   ]
  },
  {
   "cell_type": "code",
   "execution_count": 8,
   "metadata": {},
   "outputs": [
    {
     "name": "stdout",
     "output_type": "stream",
     "text": [
      "3\n"
     ]
    }
   ],
   "source": [
    "# Assign a string to the variable 'str'\n",
    "str = \"second a start index and third\"\n",
    "\n",
    "# Count the occurrences of the character 'a' in the string\n",
    "oc = str.count('a')\n",
    "\n",
    "# Print the number of occurrences\n",
    "print(oc)\n"
   ]
  },
  {
   "cell_type": "markdown",
   "metadata": {},
   "source": [
    "endswith and startswith "
   ]
  },
  {
   "cell_type": "code",
   "execution_count": 9,
   "metadata": {},
   "outputs": [
    {
     "name": "stdout",
     "output_type": "stream",
     "text": [
      "True\n",
      "True\n"
     ]
    }
   ],
   "source": [
    "# Assign a string to the variable 's'\n",
    "s = 'sarthak dwivedi'\n",
    "\n",
    "# Check if the string starts with 's' and print the result\n",
    "print(s.startswith('s'))  # Output: True, because 'sarthak dwivedi' starts with 's'\n",
    "\n",
    "# Check if the string ends with 'i' and print the result\n",
    "print(s.endswith('i'))  # Output: True, because 'sarthak dwivedi' ends with 'i'\n"
   ]
  },
  {
   "cell_type": "markdown",
   "metadata": {},
   "source": [
    "find() Method"
   ]
  },
  {
   "cell_type": "code",
   "execution_count": 10,
   "metadata": {},
   "outputs": [
    {
     "name": "stdout",
     "output_type": "stream",
     "text": [
      "6\n"
     ]
    }
   ],
   "source": [
    "# Assign a string to the variable 's'\n",
    "s = 'sarthak dwivedi'\n",
    "\n",
    "# Find the first occurrence of the character 'k' and print the result\n",
    "print(s.find('k'))  # Output: 6\n"
   ]
  },
  {
   "cell_type": "markdown",
   "metadata": {},
   "source": [
    "isalnum() Method and isalpha() Method"
   ]
  },
  {
   "cell_type": "code",
   "execution_count": 14,
   "metadata": {},
   "outputs": [
    {
     "name": "stdout",
     "output_type": "stream",
     "text": [
      "False\n",
      "True\n"
     ]
    }
   ],
   "source": [
    "# Assign a string to the variable 'str'\n",
    "str = 'Welcome to the world'\n",
    "\n",
    "# Check if all characters in the string are alphanumeric and print the result\n",
    "print(str.isalnum())  # Output: False, because the string contains spaces\n",
    "\n",
    "# Assign another string to the variable 'str'\n",
    "str = 'AAAAAAA'\n",
    "\n",
    "# Check if all characters in the string are alphabetic and print the result\n",
    "print(str.isalpha())  # Output: True, because all characters are letters\n"
   ]
  },
  {
   "cell_type": "markdown",
   "metadata": {},
   "source": [
    "islower(),isupper(),upper()and lower()"
   ]
  },
  {
   "cell_type": "code",
   "execution_count": 15,
   "metadata": {},
   "outputs": [
    {
     "name": "stdout",
     "output_type": "stream",
     "text": [
      "True\n",
      "False\n",
      "False\n",
      "True\n",
      "False\n",
      "False\n",
      "HELLO WORLD\n",
      "HELLO WORLD\n",
      "HELLO\n",
      "hello world\n",
      "hello world\n",
      "hello\n"
     ]
    }
   ],
   "source": [
    "# Example for islower()\n",
    "s1 = 'hello world'\n",
    "print(s1.islower())  # Output: True\n",
    "\n",
    "s2 = 'Hello World'\n",
    "print(s2.islower())  # Output: False\n",
    "\n",
    "s3 = 'HELLO'\n",
    "print(s3.islower())  # Output: False\n",
    "\n",
    "# Example for isupper()\n",
    "s4 = 'HELLO WORLD'\n",
    "print(s4.isupper())  # Output: True\n",
    "\n",
    "s5 = 'Hello World'\n",
    "print(s5.isupper())  # Output: False\n",
    "\n",
    "s6 = 'hello'\n",
    "print(s6.isupper())  # Output: False\n",
    "\n",
    "# Example for upper()\n",
    "s7 = 'hello world'\n",
    "print(s7.upper())  # Output: 'HELLO WORLD'\n",
    "\n",
    "s8 = 'Hello World'\n",
    "print(s8.upper())  # Output: 'HELLO WORLD'\n",
    "\n",
    "s9 = 'HELLO'\n",
    "print(s9.upper())  # Output: 'HELLO'\n",
    "\n",
    "# Example for lower()\n",
    "s10 = 'HELLO WORLD'\n",
    "print(s10.lower())  # Output: 'hello world'\n",
    "\n",
    "s11 = 'Hello World'\n",
    "print(s11.lower())  # Output: 'hello world'\n",
    "\n",
    "s12 = 'hello'\n",
    "print(s12.lower())  # Output: 'hello'\n"
   ]
  },
  {
   "cell_type": "markdown",
   "metadata": {},
   "source": [
    "###All strips function"
   ]
  },
  {
   "cell_type": "code",
   "execution_count": null,
   "metadata": {},
   "outputs": [],
   "source": [
    "# Example for strip()\n",
    "s1 = '   Hello, World!   '\n",
    "print(s1.strip())  # Output: 'Hello, World!'\n",
    "\n",
    "s2 = '***Python Programming***'\n",
    "print(s2.strip('*'))  # Output: 'Python Programming'\n",
    "\n",
    "# Example for lstrip()\n",
    "s3 = '   Hello, World!   '\n",
    "print(s3.lstrip())  # Output: 'Hello, World!   '\n",
    "\n",
    "s4 = '***Python Programming***'\n",
    "print(s4.lstrip('*'))  # Output: 'Python Programming***'\n",
    "\n",
    "# Example for rstrip()\n",
    "s5 = '   Hello, World!   '\n",
    "print(s5.rstrip())  # Output: '   Hello, World!'\n",
    "\n",
    "s6 = '***Python Programming***'\n",
    "print(s6.rstrip('*'))  # Output: '***Python Programming'"
   ]
  }
 ],
 "metadata": {
  "kernelspec": {
   "display_name": "Python 3",
   "language": "python",
   "name": "python3"
  },
  "language_info": {
   "codemirror_mode": {
    "name": "ipython",
    "version": 3
   },
   "file_extension": ".py",
   "mimetype": "text/x-python",
   "name": "python",
   "nbconvert_exporter": "python",
   "pygments_lexer": "ipython3",
   "version": "3.8.10"
  }
 },
 "nbformat": 4,
 "nbformat_minor": 2
}
