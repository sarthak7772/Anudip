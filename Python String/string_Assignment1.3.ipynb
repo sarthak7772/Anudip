{
 "cells": [
  {
   "cell_type": "markdown",
   "metadata": {},
   "source": [
    "1. Count All Letters, Digits, and Special Symbols"
   ]
  },
  {
   "cell_type": "code",
   "execution_count": null,
   "metadata": {},
   "outputs": [],
   "source": [
    "def count_chars_digits_symbols(s):\n",
    "    letters = 0\n",
    "    digits = 0\n",
    "    symbols = 0\n",
    "    \n",
    "    for char in s:\n",
    "        if char.isalpha():\n",
    "            letters += 1\n",
    "        elif char.isdigit():\n",
    "            digits += 1\n",
    "        else:\n",
    "            symbols += 1\n",
    "    \n",
    "    return letters, digits, symbols\n",
    "\n",
    "# Input string\n",
    "input_str = \"P@#yn26at^&i5ve\"\n",
    "letters, digits, symbols = count_chars_digits_symbols(input_str)\n",
    "\n",
    "# Print the result\n",
    "print(f\"Chars = {letters} Digits = {digits} Symbol = {symbols}\")\n"
   ]
  },
  {
   "cell_type": "markdown",
   "metadata": {},
   "source": [
    "2. Remove Duplicate Characters from a Given String"
   ]
  },
  {
   "cell_type": "code",
   "execution_count": null,
   "metadata": {},
   "outputs": [],
   "source": [
    "def remove_duplicates(s):\n",
    "    seen = set()\n",
    "    result = []\n",
    "    for char in s:\n",
    "        if char not in seen:\n",
    "            seen.add(char)\n",
    "            result.append(char)\n",
    "    return ''.join(result)\n",
    "\n",
    "# Input string\n",
    "input_str = \"String and String Function\"\n",
    "output_str = remove_duplicates(input_str)\n",
    "\n",
    "# Print the result\n",
    "print(output_str)\n"
   ]
  },
  {
   "cell_type": "markdown",
   "metadata": {},
   "source": [
    "3. Write a Python program to count Uppercase, Lowercase, special\n",
    "character and numeric values in a given string\n",
    "Input = “Hell0 W0rld ! 123 * # welcome to pYtHoN”\n",
    "Output:\n",
    "UpperCase : 5\n",
    "LowerCase : 18\n",
    "NumberCase : 5\n",
    "SpecialCase : 11"
   ]
  },
  {
   "cell_type": "code",
   "execution_count": null,
   "metadata": {},
   "outputs": [],
   "source": [
    "def count_characters(input_string):\n",
    "    # Initialize counters\n",
    "    upper_case_count = 0\n",
    "    lower_case_count = 0\n",
    "    number_count = 0\n",
    "    special_char_count = 0\n",
    "    \n",
    "    # Iterate through each character in the string\n",
    "    for char in input_string:\n",
    "        if char.isupper():\n",
    "            upper_case_count += 1\n",
    "        elif char.islower():\n",
    "            lower_case_count += 1\n",
    "        elif char.isdigit():\n",
    "            number_count += 1\n",
    "        elif not char.isspace():\n",
    "            special_char_count += 1\n",
    "\n",
    "    # Print the results\n",
    "    print(f\"UpperCase : {upper_case_count}\")\n",
    "    print(f\"LowerCase : {lower_case_count}\")\n",
    "    print(f\"NumberCase : {number_count}\")\n",
    "    print(f\"SpecialCase : {special_char_count}\")\n",
    "\n",
    "# Input string\n",
    "input_string = \"Hell0 W0rld ! 123 * # welcome to pYtHoN\"\n",
    "\n",
    "# Call the function\n",
    "count_characters(input_string)\n"
   ]
  },
  {
   "cell_type": "markdown",
   "metadata": {},
   "source": [
    "4. Write a Python Count vowels in a string\n",
    "input= “Welcome to Python Assignment”\n",
    "Output: Total vowels are: 8"
   ]
  },
  {
   "cell_type": "code",
   "execution_count": null,
   "metadata": {},
   "outputs": [],
   "source": [
    "def count_vowels(input_string):\n",
    "    # Define the vowels\n",
    "    vowels = \"aeiouAEIOU\"\n",
    "    \n",
    "    # Initialize the vowel count\n",
    "    vowel_count = 0\n",
    "    \n",
    "    # Iterate through each character in the string\n",
    "    for char in input_string:\n",
    "        if char in vowels:\n",
    "            vowel_count += 1\n",
    "    \n",
    "    # Print the result\n",
    "    print(f\"Total vowels are: {vowel_count}\")\n",
    "\n",
    "# Input string\n",
    "input_string = \"Welcome to Python Assignment\"\n",
    "\n",
    "# Call the function\n",
    "count_vowels(input_string)"
   ]
  }
 ],
 "metadata": {
  "kernelspec": {
   "display_name": "Python 3",
   "language": "python",
   "name": "python3"
  },
  "language_info": {
   "name": "python",
   "version": "3.8.10"
  }
 },
 "nbformat": 4,
 "nbformat_minor": 2
}
